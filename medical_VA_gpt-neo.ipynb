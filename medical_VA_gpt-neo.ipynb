{
 "cells": [
  {
   "cell_type": "code",
   "execution_count": 1,
   "metadata": {},
   "outputs": [
    {
     "name": "stdout",
     "output_type": "stream",
     "text": [
      "                                             disease  \\\n",
      "0  AAA screening, see Abdominal aortic aneurysm (...   \n",
      "1                 AAA, see Abdominal aortic aneurysm   \n",
      "2                          Abdominal aortic aneurysm   \n",
      "3          Abdominal aortic aneurysm (AAA) screening   \n",
      "4                                           Abortion   \n",
      "\n",
      "                                            symptoms  \n",
      "0  Deep, constant pain in the belly area or side ...  \n",
      "1  Deep, constant pain in the belly area or side ...  \n",
      "2  Deep, constant pain in the belly area or side ...  \n",
      "3  Deep, constant pain in the belly area or side ...  \n",
      "4  Bleeding from the vagina with or without pain,...  \n"
     ]
    }
   ],
   "source": [
    "# import pandas as pd\n",
    "\n",
    "# # Load the dataset\n",
    "# data_path = 'disease_symptoms.csv'  \n",
    "# df = pd.read_csv(data_path)\n",
    "\n",
    "# print(df.head())"
   ]
  },
  {
   "cell_type": "code",
   "execution_count": 2,
   "metadata": {},
   "outputs": [],
   "source": [
    "# df.columns = df.columns.str.strip()"
   ]
  },
  {
   "cell_type": "code",
   "execution_count": 3,
   "metadata": {},
   "outputs": [],
   "source": [
    "# # Combine Disease and Symptoms into the required [Q]/[A] format\n",
    "# data = []\n",
    "# for _, row in df.iterrows():\n",
    "#     symptoms = row['symptoms']\n",
    "#     disease = row['disease']\n",
    "#     data.append(f\"For symptoms {symptoms}, these could be the disease: {disease}.\")\n",
    "\n",
    "# # Save to a file for fine-tuning\n",
    "# output_file = 'fine_tuning_diseases.txt'\n",
    "# with open(output_file, \"w\") as f:\n",
    "#     f.write(\"\\n\".join(data))\n"
   ]
  },
  {
   "cell_type": "code",
   "execution_count": 3,
   "metadata": {},
   "outputs": [],
   "source": [
    "output_file = 'fine_tuning_diseases.txt'"
   ]
  },
  {
   "cell_type": "code",
   "execution_count": 2,
   "metadata": {},
   "outputs": [
    {
     "name": "stderr",
     "output_type": "stream",
     "text": [
      "/opt/homebrew/lib/python3.11/site-packages/tqdm/auto.py:21: TqdmWarning: IProgress not found. Please update jupyter and ipywidgets. See https://ipywidgets.readthedocs.io/en/stable/user_install.html\n",
      "  from .autonotebook import tqdm as notebook_tqdm\n",
      "/opt/homebrew/lib/python3.11/site-packages/transformers/data/datasets/language_modeling.py:53: FutureWarning: This dataset will be removed from the library soon, preprocessing should be handled with the 🤗 Datasets library. You can have a look at this example script for pointers: https://github.com/huggingface/transformers/blob/main/examples/pytorch/language-modeling/run_mlm.py\n",
      "  warnings.warn(\n"
     ]
    }
   ],
   "source": [
    "from transformers import TextDataset, DataCollatorForLanguageModeling, GPT2Tokenizer, GPTNeoForCausalLM, Trainer, TrainingArguments\n",
    "\n",
    "# Load the tokenizer\n",
    "tokenizer = GPT2Tokenizer.from_pretrained(\"EleutherAI/gpt-neo-1.3B\")\n",
    "tokenizer.pad_token = tokenizer.eos_token\n",
    "\n",
    "# Prepare the dataset\n",
    "def load_dataset(file_path, tokenizer, block_size=128):\n",
    "    return TextDataset(\n",
    "        tokenizer=tokenizer,\n",
    "        file_path=file_path,\n",
    "        block_size=block_size,\n",
    "    )\n",
    "\n",
    "# Prepare the data collator\n",
    "def load_data_collator(tokenizer, mlm=False):\n",
    "    return DataCollatorForLanguageModeling(\n",
    "        tokenizer=tokenizer,\n",
    "        mlm=mlm,\n",
    "    )\n",
    "\n",
    "# Load the dataset\n",
    "train_dataset = load_dataset(output_file, tokenizer)\n",
    "data_collator = load_data_collator(tokenizer)\n",
    "\n",
    "# Load the GPT-Neo model\n",
    "model = GPTNeoForCausalLM.from_pretrained(\"EleutherAI/gpt-neo-125M\")\n"
   ]
  },
  {
   "cell_type": "code",
   "execution_count": 1,
   "metadata": {},
   "outputs": [],
   "source": [
    "output_dir = \"GPT-Neo-Disease-Symptoms\""
   ]
  },
  {
   "cell_type": "code",
   "execution_count": 7,
   "metadata": {},
   "outputs": [
    {
     "name": "stderr",
     "output_type": "stream",
     "text": [
      " 14%|█▍        | 100/705 [01:15<08:34,  1.18it/s]"
     ]
    },
    {
     "name": "stdout",
     "output_type": "stream",
     "text": [
      "{'loss': 1.3017, 'grad_norm': 7.4578752517700195, 'learning_rate': 4.2907801418439716e-05, 'epoch': 0.71}\n"
     ]
    },
    {
     "name": "stderr",
     "output_type": "stream",
     "text": [
      " 28%|██▊       | 200/705 [02:31<06:12,  1.36it/s]"
     ]
    },
    {
     "name": "stdout",
     "output_type": "stream",
     "text": [
      "{'loss': 1.0796, 'grad_norm': 5.425893783569336, 'learning_rate': 3.5815602836879437e-05, 'epoch': 1.42}\n"
     ]
    },
    {
     "name": "stderr",
     "output_type": "stream",
     "text": [
      " 43%|████▎     | 300/705 [03:50<05:17,  1.27it/s]"
     ]
    },
    {
     "name": "stdout",
     "output_type": "stream",
     "text": [
      "{'loss': 0.9044, 'grad_norm': 7.193349361419678, 'learning_rate': 2.8723404255319154e-05, 'epoch': 2.13}\n"
     ]
    },
    {
     "name": "stderr",
     "output_type": "stream",
     "text": [
      " 57%|█████▋    | 400/705 [05:06<03:47,  1.34it/s]"
     ]
    },
    {
     "name": "stdout",
     "output_type": "stream",
     "text": [
      "{'loss': 0.706, 'grad_norm': 5.844755172729492, 'learning_rate': 2.1631205673758867e-05, 'epoch': 2.84}\n"
     ]
    },
    {
     "name": "stderr",
     "output_type": "stream",
     "text": [
      " 71%|███████   | 500/705 [06:25<02:45,  1.24it/s]"
     ]
    },
    {
     "name": "stdout",
     "output_type": "stream",
     "text": [
      "{'loss': 0.5765, 'grad_norm': 5.316499710083008, 'learning_rate': 1.4539007092198581e-05, 'epoch': 3.55}\n"
     ]
    },
    {
     "name": "stderr",
     "output_type": "stream",
     "text": [
      " 85%|████████▌ | 600/705 [07:43<01:17,  1.36it/s]"
     ]
    },
    {
     "name": "stdout",
     "output_type": "stream",
     "text": [
      "{'loss': 0.4847, 'grad_norm': 6.853212356567383, 'learning_rate': 7.446808510638298e-06, 'epoch': 4.26}\n"
     ]
    },
    {
     "name": "stderr",
     "output_type": "stream",
     "text": [
      " 99%|█████████▉| 700/705 [08:57<00:03,  1.38it/s]"
     ]
    },
    {
     "name": "stdout",
     "output_type": "stream",
     "text": [
      "{'loss': 0.4579, 'grad_norm': 4.617097854614258, 'learning_rate': 3.546099290780142e-07, 'epoch': 4.96}\n"
     ]
    },
    {
     "name": "stderr",
     "output_type": "stream",
     "text": [
      "100%|██████████| 705/705 [09:03<00:00,  1.30it/s]\n"
     ]
    },
    {
     "name": "stdout",
     "output_type": "stream",
     "text": [
      "{'train_runtime': 543.7701, 'train_samples_per_second': 5.177, 'train_steps_per_second': 1.297, 'train_loss': 0.7850412253792405, 'epoch': 5.0}\n"
     ]
    },
    {
     "data": {
      "text/plain": [
       "('GPT-Neo-Disease-Symptoms/tokenizer_config.json',\n",
       " 'GPT-Neo-Disease-Symptoms/special_tokens_map.json',\n",
       " 'GPT-Neo-Disease-Symptoms/vocab.json',\n",
       " 'GPT-Neo-Disease-Symptoms/merges.txt',\n",
       " 'GPT-Neo-Disease-Symptoms/added_tokens.json')"
      ]
     },
     "execution_count": 7,
     "metadata": {},
     "output_type": "execute_result"
    }
   ],
   "source": [
    "# Define training arguments\n",
    "\n",
    "training_args = TrainingArguments(\n",
    "    output_dir=output_dir,\n",
    "    overwrite_output_dir=True,\n",
    "    num_train_epochs=5, \n",
    "    per_device_train_batch_size=4,  \n",
    "    save_steps=500,\n",
    "    save_total_limit=2,\n",
    "    logging_dir=f'{output_dir}/logs',\n",
    "    logging_steps=100,\n",
    "    learning_rate=5e-5,\n",
    ")\n",
    "\n",
    "# Initialize the trainer\n",
    "trainer = Trainer(\n",
    "    model=model,\n",
    "    args=training_args,\n",
    "    data_collator=data_collator,\n",
    "    train_dataset=train_dataset,\n",
    ")\n",
    "\n",
    "# Fine-tune the model\n",
    "trainer.train()\n",
    "\n",
    "# Save the model\n",
    "trainer.save_model(output_dir)\n",
    "tokenizer.save_pretrained(output_dir)\n"
   ]
  },
  {
   "cell_type": "code",
   "execution_count": 33,
   "metadata": {},
   "outputs": [
    {
     "name": "stderr",
     "output_type": "stream",
     "text": [
      "Hardware accelerator e.g. GPU is available in the environment, but no `device` argument is passed to the `Pipeline` object. Model will be on CPU.\n"
     ]
    }
   ],
   "source": [
    "from langchain.vectorstores import FAISS\n",
    "from langchain.embeddings import HuggingFaceEmbeddings\n",
    "from langchain.prompts import PromptTemplate\n",
    "from langchain.chains import RetrievalQA\n",
    "from langchain.llms import HuggingFacePipeline\n",
    "from transformers import pipeline, AutoTokenizer, AutoModelForCausalLM\n",
    "import os\n",
    "\n",
    "# Step 1: Preprocess and Load Data for FAISS\n",
    "def preprocess_data(file_path):\n",
    "    with open(file_path, \"r\") as f:\n",
    "        lines = f.readlines()\n",
    "    # Split data into individual entries for FAISS\n",
    "    documents = [{\"text\": line.strip()} for line in lines]\n",
    "    return documents\n",
    "\n",
    "# Load the dataset for FAISS\n",
    "retriever_data = preprocess_data(output_file)\n",
    "\n",
    "\n",
    "\n",
    "# Step 2: Build FAISS Index\n",
    "embedding_model_name = \"sentence-transformers/all-MiniLM-L6-v2\"\n",
    "embedding_model = HuggingFaceEmbeddings(model_name=embedding_model_name)\n",
    "\n",
    "# Initialize FAISS retriever\n",
    "vectorstore = FAISS.from_texts(\n",
    "    texts=[doc[\"text\"] for doc in retriever_data],\n",
    "    embedding=embedding_model\n",
    ")\n",
    "\n",
    "# Step 3: Enhance the LLM with a Generator\n",
    "def load_gpt_neo_model(model_path=\"EleutherAI/gpt-neo-125M\"):\n",
    "    tokenizer = AutoTokenizer.from_pretrained(model_path)\n",
    "    model = AutoModelForCausalLM.from_pretrained(model_path)\n",
    "    pipeline_model = pipeline(\"text-generation\", model=model, tokenizer=tokenizer)\n",
    "    return HuggingFacePipeline(pipeline=pipeline_model)\n",
    "\n",
    "# Load the fine-tuned GPT-Neo model\n",
    "gpt_neo_model = load_gpt_neo_model(output_dir)\n"
   ]
  },
  {
   "cell_type": "code",
   "execution_count": 30,
   "metadata": {},
   "outputs": [],
   "source": [
    "from transformers import GPTNeoForCausalLM, GPT2Tokenizer\n",
    "\n",
    "# Load the fine-tuned model and tokenizer\n",
    "model_path = \"GPT-Neo-Disease-Symptoms\"\n",
    "model = GPTNeoForCausalLM.from_pretrained(model_path)\n",
    "tokenizer = GPT2Tokenizer.from_pretrained(model_path)\n",
    "\n",
    "def identify_disease(symptoms, max_length=500):\n",
    "    \"\"\"\n",
    "    Predicts a disease based on symptoms and retrieved context.\n",
    "\n",
    "    Args:\n",
    "        symptoms (str): Input symptoms provided by the user.\n",
    "        vectorstore (FAISS): FAISS vector store for context retrieval.\n",
    "        max_length (int): Maximum length for the generated response.\n",
    "        k (int): Number of top documents to retrieve for context.\n",
    "\n",
    "    Returns:\n",
    "        str: Predicted disease or an appropriate message.\n",
    "    \"\"\"\n",
    "    # Retrieve context from the vector store\n",
    "    query = f\"Symptoms: {symptoms}\"\n",
    "    results = vectorstore.similarity_search(query, k=2)\n",
    "    context = \" \".join([doc.page_content for doc in results]) if results else \"No relevant context available.\"\n",
    "\n",
    "    # Create input text with retrieved context\n",
    "    input_text = (\n",
    "        \"You are a medical assistant trained to predict diseases based on symptoms.\\n\\n\"\n",
    "        f\"Context: {context}\\n\"\n",
    "        f\"Symptoms: {symptoms}\\n\\n\"\n",
    "        \"Based on the context and symptoms, provide the name of the disease. \"\n",
    "        \"If the context does not contain the answer, respond with: 'I don't know the answer.'\"\n",
    "    )\n",
    "    input_ids = tokenizer.encode(input_text, return_tensors=\"pt\")\n",
    "    outputs = model.generate(\n",
    "        input_ids,\n",
    "        max_length=min(len(input_ids[0]) + 50, tokenizer.model_max_length),\n",
    "        top_k=50,\n",
    "        top_p=0.95,\n",
    "        pad_token_id=tokenizer.eos_token_id,\n",
    "    )\n",
    "    response = tokenizer.decode(outputs[0], skip_special_tokens=True)\n",
    "    # Extract the answer\n",
    "    #  Process the response to extract the disease name\n",
    "    response_lines = response.strip().split(\"\\n\")\n",
    "    for line in response_lines:\n",
    "        if \"this could be the disease:\" in line:\n",
    "            # Extract the disease name after the phrase\n",
    "            disease_name = line.split(\"this could be the disease:\")[-1].strip()\n",
    "            if disease_name:\n",
    "                # Remove any trailing period\n",
    "                disease_name = disease_name.rstrip(\".\")\n",
    "                return disease_name  # Return the extracted disease name\n",
    "\n",
    "    # Default response if no valid disease name is found\n",
    "    return \"I don't know the answer.\"\n",
    "\n",
    "\n"
   ]
  },
  {
   "cell_type": "code",
   "execution_count": 31,
   "metadata": {},
   "outputs": [
    {
     "name": "stderr",
     "output_type": "stream",
     "text": [
      "/opt/homebrew/lib/python3.11/site-packages/transformers/generation/configuration_utils.py:595: UserWarning: `do_sample` is set to `False`. However, `top_p` is set to `0.95` -- this flag is only used in sample-based generation modes. You should set `do_sample=True` or unset `top_p`.\n",
      "  warnings.warn(\n"
     ]
    },
    {
     "name": "stdout",
     "output_type": "stream",
     "text": [
      "Predicted Disease: Abdominal aortic aneurysm\n"
     ]
    }
   ],
   "source": [
    "# Example usage\n",
    "user_symptoms = \"I have deep, constant pain in my belly and back, and I feel a pulse near my bellybutton. What could this be?\"\n",
    "diagnosis = identify_disease(user_symptoms)\n",
    "\n",
    "print(f\"Predicted Disease: {diagnosis}\")"
   ]
  },
  {
   "cell_type": "code",
   "execution_count": 32,
   "metadata": {},
   "outputs": [
    {
     "name": "stderr",
     "output_type": "stream",
     "text": [
      "/opt/homebrew/lib/python3.11/site-packages/transformers/generation/configuration_utils.py:595: UserWarning: `do_sample` is set to `False`. However, `top_p` is set to `0.95` -- this flag is only used in sample-based generation modes. You should set `do_sample=True` or unset `top_p`.\n",
      "  warnings.warn(\n"
     ]
    },
    {
     "name": "stdout",
     "output_type": "stream",
     "text": [
      "Accuracy: 45.65%\n",
      "\n",
      "Mismatched cases:\n",
      "Symptoms: I’m having trouble swallowing, and sometimes it feels like food is stuck in my throat. I’ve also lost some weight. What might be going on?\n",
      "Actual Disease: Achalasia\n",
      "Predicted Disease: Dysphagia (swallowing problems)\n",
      "--------------------------------------------------\n",
      "Symptoms: I’m always tired, losing weight, and I’ve noticed dark patches on my skin. What could this indicate?\n",
      "Actual Disease: Addison's disease\n",
      "Predicted Disease: Cancer\n",
      "--------------------------------------------------\n",
      "Symptoms: I have severe back pain that spreads down my legs and causes numbness and tingling. What could it be?\n",
      "Actual Disease: Back pain due to nerve compression or another serious cause\n",
      "Predicted Disease: Back pain\n",
      "--------------------------------------------------\n",
      "Symptoms: I noticed swelling behind my knee and it feels stiff and painful. What could this be?\n",
      "Actual Disease: Baker's cyst\n",
      "Predicted Disease: Knee pain\n",
      "--------------------------------------------------\n",
      "Symptoms: My breath smells bad even though I brush regularly, and I’ve noticed a dry mouth and gum issues. What could be causing this?\n",
      "Actual Disease: Bad breath caused by dry mouth, gum disease, or other oral conditions\n",
      "Predicted Disease: Bad breath\n",
      "--------------------------------------------------\n",
      "Symptoms: I have sudden weakness on one side of my face, trouble smiling, and pain near my jaw. What might this be?\n",
      "Actual Disease: Bell's palsy\n",
      "Predicted Disease: Salivary gland stones\n",
      "--------------------------------------------------\n",
      "Symptoms: I have a dry cough, shortness of breath, and a fever. I've also lost my sense of taste and smell. What could this be?\n",
      "Actual Disease: COVID-19\n",
      "Predicted Disease: Coronavirus\n",
      "--------------------------------------------------\n",
      "Symptoms: I've been feeling dizzy, confused, and weak, with blurred vision and nausea. Could this be serious?\n",
      "Actual Disease: Carbon monoxide poisoning\n",
      "Predicted Disease: Blood pressure (low)\n",
      "--------------------------------------------------\n",
      "Symptoms: I’m experiencing chest pain that spreads to my neck and jaw. I also feel short of breath and sweaty. What could this be?\n",
      "Actual Disease: Cardiovascular disease\n",
      "Predicted Disease: Chest pain\n",
      "--------------------------------------------------\n",
      "Symptoms: I have diarrhea, fatigue, and belly pain. Sometimes there’s blood in my stool. What could it indicate?\n",
      "Actual Disease: Crohn's disease\n",
      "Predicted Disease: Inflammatory bowel disease\n",
      "--------------------------------------------------\n",
      "Symptoms: I’ve been gaining weight mostly around my face and stomach, and I have purple stretch marks on my skin. What could this mean?\n",
      "Actual Disease: Cushing's syndrome\n",
      "Predicted Disease: Neuroendocrine tumours and carcinoid syndrome\n",
      "--------------------------------------------------\n",
      "Symptoms: I have dry, cracked skin with thickened areas and it feels really itchy. Could this be eczema?\n",
      "Actual Disease: Eczema\n",
      "Predicted Disease: Atopic eczema\n",
      "--------------------------------------------------\n",
      "Symptoms: I have intense itching and pain around the genitals, along with small bumps and ulcers that form scabs. What could this be?\n",
      "Actual Disease: Genital herpes\n",
      "Predicted Disease: Herpes (genital)\n",
      "--------------------------------------------------\n",
      "Symptoms: I experience patchy blind spots in my side vision, and now I'm finding it difficult to focus on things directly in front of me. What could this indicate?\n",
      "Actual Disease: Glaucoma\n",
      "Predicted Disease: Eye injuries\n",
      "--------------------------------------------------\n",
      "Symptoms: My skin has become yellow, my belly feels swollen, and I have a loss of appetite along with nausea. Could this be related to a liver condition?\n",
      "Actual Disease: Liver disease\n",
      "Predicted Disease: Hepatitis B\n",
      "--------------------------------------------------\n",
      "Symptoms: I have trouble urinating, a weak urine stream, and feel like I can't fully empty my bladder. What could this be?\n",
      "Actual Disease: Prostate enlargement\n",
      "Predicted Disease: Urinary catheter\n",
      "--------------------------------------------------\n",
      "Symptoms: I notice itchy, flaky patches on my skin that vary in color and sometimes bleed. What might be the issue?\n",
      "Actual Disease: Psoriasis\n",
      "Predicted Disease: Hair dye reactions\n",
      "--------------------------------------------------\n",
      "Symptoms: I have swelling behind my knee, stiffness, and trouble fully flexing my knee. What could this indicate?\n",
      "Actual Disease: Popliteal cyst (Baker's cyst)\n",
      "Predicted Disease: Dislocated kneecap\n",
      "--------------------------------------------------\n",
      "Symptoms: I have redness and small swollen bumps on my face that look like acne, and sometimes my skin feels hot and tender. What could this be?\n",
      "Actual Disease: Rosacea\n",
      "Predicted Disease: Neuroendocrine tumours and carcinoid syndrome\n",
      "--------------------------------------------------\n",
      "Symptoms: I’ve noticed a small lump in my scrotum, and there’s a dull ache in my lower belly. Should I be worried about something serious?\n",
      "Actual Disease: Testicular cancer\n",
      "Predicted Disease: Penile cancer\n",
      "--------------------------------------------------\n",
      "Symptoms: My face flushes easily, and I have dry, irritated eyes along with visible small blood vessels on my cheeks. What could this indicate?\n",
      "Actual Disease: Rosacea\n",
      "Predicted Disease: Rhinitis (allergic)\n",
      "--------------------------------------------------\n",
      "Symptoms: I have vaginal bleeding after menopause, along with pelvic pain. What could this be?\n",
      "Actual Disease: Womb (uterus) cancer\n",
      "Predicted Disease: Endometrial cancer\n",
      "--------------------------------------------------\n",
      "Symptoms: My neck hurts and feels stiff, and the pain gets worse when I move it. Could this be whiplash?\n",
      "Actual Disease: Whiplash\n",
      "Predicted Disease: Broken collarbone\n",
      "--------------------------------------------------\n",
      "Symptoms: I noticed small, grainy bumps on my hands that feel rough to the touch. Could these be warts?\n",
      "Actual Disease: Warts and verrucas\n",
      "Predicted Disease: Corns and calluses\n",
      "--------------------------------------------------\n",
      "Symptoms: There’s a lump and pain in my vulva area that hasn’t gone away. Could this indicate vulval cancer?\n",
      "Actual Disease: Vulval cancer\n",
      "Predicted Disease: Vulvodynia (vulval pain)\n",
      "--------------------------------------------------\n"
     ]
    }
   ],
   "source": [
    "import pandas as pd\n",
    "\n",
    "# Load the test dataset\n",
    "test_data_path = \"symptom_diseases_test.csv\"\n",
    "test_df = pd.read_csv(test_data_path)\n",
    "\n",
    "# Function to evaluate the model\n",
    "def evaluate_model(test_df):\n",
    "    correct_predictions = 0\n",
    "    total_predictions = len(test_df)\n",
    "    mismatched_cases = []\n",
    "\n",
    "    for _, row in test_df.iterrows():\n",
    "        symptoms = row[\"symptoms\"]\n",
    "        actual_disease = row[\"disease\"]\n",
    "        actual_disease = actual_disease.rstrip(\".\")\n",
    "        predicted_disease = identify_disease(symptoms)\n",
    "        \n",
    "        if predicted_disease.lower() == actual_disease.lower():\n",
    "            correct_predictions += 1\n",
    "        else:\n",
    "            mismatched_cases.append(\n",
    "                {\n",
    "                    \"Symptoms\": symptoms,\n",
    "                    \"Actual Disease\": actual_disease,\n",
    "                    \"Predicted Disease\": predicted_disease,\n",
    "                }\n",
    "            )\n",
    "    \n",
    "    accuracy = correct_predictions / total_predictions\n",
    "    return accuracy, mismatched_cases\n",
    "\n",
    "# Run the evaluation\n",
    "accuracy, mismatched_cases = evaluate_model(test_df)\n",
    "\n",
    "# Display the results\n",
    "print(f\"Accuracy: {accuracy * 100:.2f}%\")\n",
    "if mismatched_cases:\n",
    "    print(\"\\nMismatched cases:\")\n",
    "    for case in mismatched_cases:\n",
    "        print(f\"Symptoms: {case['Symptoms']}\")\n",
    "        print(f\"Actual Disease: {case['Actual Disease']}\")\n",
    "        print(f\"Predicted Disease: {case['Predicted Disease']}\")\n",
    "        print(\"-\" * 50)\n"
   ]
  },
  {
   "cell_type": "code",
   "execution_count": null,
   "metadata": {},
   "outputs": [],
   "source": []
  }
 ],
 "metadata": {
  "kernelspec": {
   "display_name": "Python 3",
   "language": "python",
   "name": "python3"
  },
  "language_info": {
   "codemirror_mode": {
    "name": "ipython",
    "version": 3
   },
   "file_extension": ".py",
   "mimetype": "text/x-python",
   "name": "python",
   "nbconvert_exporter": "python",
   "pygments_lexer": "ipython3",
   "version": "3.11.10"
  }
 },
 "nbformat": 4,
 "nbformat_minor": 2
}
