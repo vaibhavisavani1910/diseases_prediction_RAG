{
 "cells": [
  {
   "cell_type": "code",
   "execution_count": 2,
   "metadata": {},
   "outputs": [],
   "source": [
    "import pandas as pd\n",
    "from langchain.vectorstores import FAISS\n",
    "from langchain.embeddings import HuggingFaceEmbeddings\n",
    "from langchain.docstore.document import Document\n",
    "import pandas as pd"
   ]
  },
  {
   "cell_type": "code",
   "execution_count": 3,
   "metadata": {},
   "outputs": [
    {
     "name": "stderr",
     "output_type": "stream",
     "text": [
      "/var/folders/h2/8092brhd2wj7lx4kzrqzvxdm0000gp/T/ipykernel_17931/2586839286.py:5: FutureWarning: Series.__getitem__ treating keys as positions is deprecated. In a future version, integer keys will always be treated as labels (consistent with DataFrame behavior). To access a value by position, use `ser.iloc[pos]`\n",
      "  Document(page_content=row[0])\n",
      "/var/folders/h2/8092brhd2wj7lx4kzrqzvxdm0000gp/T/ipykernel_17931/2586839286.py:11: LangChainDeprecationWarning: The class `HuggingFaceEmbeddings` was deprecated in LangChain 0.2.2 and will be removed in 1.0. An updated version of the class exists in the :class:`~langchain-huggingface package and should be used instead. To use it run `pip install -U :class:`~langchain-huggingface` and import as `from :class:`~langchain_huggingface import HuggingFaceEmbeddings``.\n",
      "  embeddings = HuggingFaceEmbeddings(model_name=bio_bert_model)\n",
      "/opt/homebrew/lib/python3.11/site-packages/tqdm/auto.py:21: TqdmWarning: IProgress not found. Please update jupyter and ipywidgets. See https://ipywidgets.readthedocs.io/en/stable/user_install.html\n",
      "  from .autonotebook import tqdm as notebook_tqdm\n",
      "No sentence-transformers model found with name dmis-lab/biobert-base-cased-v1.1. Creating a new one with mean pooling.\n"
     ]
    }
   ],
   "source": [
    "df = pd.read_csv(\"fine_tuning_diseases.txt\", sep=\"\\t\")\n",
    "\n",
    "#  Convert rows to LangChain Documents\n",
    "documents = [\n",
    "    Document(page_content=row[0])\n",
    "    for _, row in df.iterrows()\n",
    "]\n",
    "\n",
    "# Use BioBERT for embeddings\n",
    "bio_bert_model = \"dmis-lab/biobert-base-cased-v1.1\"\n",
    "embeddings = HuggingFaceEmbeddings(model_name=bio_bert_model)\n",
    "\n",
    "# Index the documents using FAISS\n",
    "knowledge_base = FAISS.from_documents(documents, embeddings)"
   ]
  },
  {
   "cell_type": "code",
   "execution_count": 4,
   "metadata": {},
   "outputs": [],
   "source": [
    "# Function to retrieve context using symptoms\n",
    "def retrieve_context(symptoms, k=1):\n",
    "    query = f\"Symptoms: {symptoms}\"\n",
    "    results = knowledge_base.similarity_search(query, k=k)\n",
    "    return \" \".join([doc.page_content for doc in results])\n"
   ]
  },
  {
   "cell_type": "code",
   "execution_count": 5,
   "metadata": {},
   "outputs": [],
   "source": [
    "from transformers import GPTNeoForCausalLM, GPT2Tokenizer\n",
    "\n",
    "# Load the fine-tuned GPT-Neo model and tokenizer\n",
    "gpt_neo_model_path = \"GPT-Neo-Disease-Symptoms\"\n",
    "model = GPTNeoForCausalLM.from_pretrained(gpt_neo_model_path)\n",
    "tokenizer = GPT2Tokenizer.from_pretrained(gpt_neo_model_path)\n",
    "tokenizer.pad_token = tokenizer.eos_token\n"
   ]
  },
  {
   "cell_type": "code",
   "execution_count": 10,
   "metadata": {},
   "outputs": [],
   "source": [
    "def identify_disease_with_biobert_rag(symptoms, max_length=100):\n",
    "    # Retrieve relevant context using BioBERT embeddings\n",
    "    context = retrieve_context(symptoms, k=1)\n",
    "    \n",
    "    # Create input text for GPT-Neo\n",
    "    input_text = f\"Context: {context}\\nSymptoms: {symptoms}. Possible diagnosis:\"\n",
    "    \n",
    "    # Tokenize input with attention mask\n",
    "    inputs = tokenizer(\n",
    "        input_text, \n",
    "        return_tensors=\"pt\", \n",
    "        padding=True, \n",
    "        truncation=True\n",
    "    )\n",
    "    \n",
    "    # Generate response\n",
    "    outputs = model.generate(\n",
    "        inputs['input_ids'],\n",
    "        attention_mask=inputs['attention_mask'],  # Explicitly pass attention mask\n",
    "        max_length=max_length,\n",
    "        top_k=50,\n",
    "        top_p=0.95,\n",
    "        do_sample=True,  # Enable sampling for top-p to work\n",
    "        pad_token_id=tokenizer.eos_token_id,\n",
    "    )\n",
    "    \n",
    "    # Decode and process the output to extract disease name\n",
    "    response = tokenizer.decode(outputs[0], skip_special_tokens=True)\n",
    "    \n",
    "    # Look for the keyword and extract the disease name\n",
    "    for line in response.strip().split(\"\\n\"):\n",
    "        if \"this could be the disease:\" in line.lower():\n",
    "            disease_name = line.split(\"this could be the disease:\")[-1].strip()\n",
    "            return disease_name.rstrip(\".\")  # Return disease name without trailing period\n",
    "    \n",
    "    return \"I don't know the answer.\"  # Default response if no disease is found\n"
   ]
  },
  {
   "cell_type": "code",
   "execution_count": 12,
   "metadata": {},
   "outputs": [
    {
     "name": "stdout",
     "output_type": "stream",
     "text": [
      "Predicted Disease: AAA\n"
     ]
    }
   ],
   "source": [
    "# Example usage\n",
    "user_symptoms = \"Deep, constant pain in the belly area and back pain\"\n",
    "diagnosis = identify_disease_with_biobert_rag(user_symptoms)\n",
    "print(f\"Predicted Disease: {diagnosis}\")\n"
   ]
  },
  {
   "cell_type": "code",
   "execution_count": 13,
   "metadata": {},
   "outputs": [
    {
     "name": "stdout",
     "output_type": "stream",
     "text": [
      "Accuracy: 65.22%\n",
      "\n",
      "Mismatched cases:\n",
      "Symptoms: I have deep, constant pain in my belly and back, and I feel a pulse near my bellybutton. What could this be?\n",
      "Actual Disease: Abdominal aortic aneurysm\n",
      "Predicted Disease: Bell's palsy\n",
      "--------------------------------------------------\n",
      "Symptoms: I’m having trouble swallowing, and sometimes it feels like food is stuck in my throat. I’ve also lost some weight. What might be going on?\n",
      "Actual Disease: Achalasia\n",
      "Predicted Disease: Cushing's syndrome\n",
      "--------------------------------------------------\n",
      "Symptoms: I feel severe pain in my upper right belly that spreads to my shoulder, and I’ve been feeling nauseous and feverish. What could this mean?\n",
      "Actual Disease: Acute cholecystitis\n",
      "Predicted Disease: Cushing's syndrome\n",
      "--------------------------------------------------\n",
      "Symptoms: I’ve been losing hearing on one side, and there’s ringing in my ear. Sometimes I feel dizzy and off balance. What might this be?\n",
      "Actual Disease: Acoustic neuroma (vestibular schwannoma)\n",
      "Predicted Disease: Cushing's syndrome\n",
      "--------------------------------------------------\n",
      "Symptoms: I’m always tired, losing weight, and I’ve noticed dark patches on my skin. What could this indicate?\n",
      "Actual Disease: Addison's disease\n",
      "Predicted Disease: Cushing's syndrome\n",
      "--------------------------------------------------\n",
      "Symptoms: I have severe back pain that spreads down my legs and causes numbness and tingling. What could it be?\n",
      "Actual Disease: Back pain due to nerve compression or another serious cause\n",
      "Predicted Disease: Cancer\n",
      "--------------------------------------------------\n",
      "Symptoms: My breath smells bad even though I brush regularly, and I’ve noticed a dry mouth and gum issues. What could be causing this?\n",
      "Actual Disease: Bad breath caused by dry mouth, gum disease, or other oral conditions\n",
      "Predicted Disease: \"Bad breath caused by dry mouth, gum disease, or other oral conditions.\"\n",
      "--------------------------------------------------\n",
      "Symptoms: I have redness and small swollen bumps on my face that look like acne, and sometimes my skin feels hot and tender. What could this be?\n",
      "Actual Disease: Rosacea\n",
      "Predicted Disease: Cancer\n",
      "--------------------------------------------------\n",
      "Symptoms: I feel a persistent dull pain in my jaw, along with difficulty chewing and tenderness around my ear. What condition might I have?\n",
      "Actual Disease: Temporomandibular disorder (TMD)\n",
      "Predicted Disease: Bell's palsy\n",
      "--------------------------------------------------\n",
      "Symptoms: I’ve noticed a small lump in my scrotum, and there’s a dull ache in my lower belly. Should I be worried about something serious?\n",
      "Actual Disease: Testicular cancer\n",
      "Predicted Disease: Cushing's syndrome\n",
      "--------------------------------------------------\n",
      "Symptoms: I wake up with a tight jaw, sensitive teeth, and sometimes headaches near my temples. What could be causing this?\n",
      "Actual Disease: Teeth grinding (bruxism)\n",
      "Predicted Disease: Bell's palsy\n",
      "--------------------------------------------------\n",
      "Symptoms: My face flushes easily, and I have dry, irritated eyes along with visible small blood vessels on my cheeks. What could this indicate?\n",
      "Actual Disease: Rosacea\n",
      "Predicted Disease: Cushing's syndrome\n",
      "--------------------------------------------------\n",
      "Symptoms: I have vaginal bleeding after menopause, along with pelvic pain. What could this be?\n",
      "Actual Disease: Womb (uterus) cancer\n",
      "Predicted Disease: Endometrial cancer\n",
      "--------------------------------------------------\n",
      "Symptoms: My neck hurts and feels stiff, and the pain gets worse when I move it. Could this be whiplash?\n",
      "Actual Disease: Whiplash\n",
      "Predicted Disease: Carpal tunnel syndrome\n",
      "--------------------------------------------------\n",
      "Symptoms: I noticed small, grainy bumps on my hands that feel rough to the touch. Could these be warts?\n",
      "Actual Disease: Warts and verrucas\n",
      "Predicted Disease: Cradle cap\n",
      "--------------------------------------------------\n",
      "Symptoms: There’s a lump and pain in my vulva area that hasn’t gone away. Could this indicate vulval cancer?\n",
      "Actual Disease: Vulval cancer\n",
      "Predicted Disease: Bacterial vaginosis\n",
      "--------------------------------------------------\n"
     ]
    }
   ],
   "source": [
    "# Evaluation function\n",
    "def evaluate_model_with_biobert(test_df):\n",
    "    correct_predictions = 0\n",
    "    total_predictions = len(test_df)\n",
    "    mismatched_cases = []\n",
    "\n",
    "    for _, row in test_df.iterrows():\n",
    "        symptoms = row[\"symptoms\"]\n",
    "        actual_disease = row[\"disease\"].rstrip(\".\")  # Remove trailing period for comparison\n",
    "        predicted_disease = identify_disease_with_biobert_rag(symptoms).rstrip(\".\")  # Ensure no trailing period\n",
    "        \n",
    "        if predicted_disease.lower() == actual_disease.lower():\n",
    "            correct_predictions += 1\n",
    "        else:\n",
    "            mismatched_cases.append(\n",
    "                {\n",
    "                    \"Symptoms\": symptoms,\n",
    "                    \"Actual Disease\": actual_disease,\n",
    "                    \"Predicted Disease\": predicted_disease,\n",
    "                }\n",
    "            )\n",
    "    \n",
    "    accuracy = correct_predictions / total_predictions\n",
    "    return accuracy, mismatched_cases\n",
    "\n",
    "# Example usage with evaluation\n",
    "test_data_path = \"symptom_diseases_test.csv\"\n",
    "test_df = pd.read_csv(test_data_path)\n",
    "\n",
    "accuracy, mismatched_cases = evaluate_model_with_biobert(test_df)\n",
    "\n",
    "# Display evaluation results\n",
    "print(f\"Accuracy: {accuracy * 100:.2f}%\")\n",
    "if mismatched_cases:\n",
    "    print(\"\\nMismatched cases:\")\n",
    "    for case in mismatched_cases:\n",
    "        print(f\"Symptoms: {case['Symptoms']}\")\n",
    "        print(f\"Actual Disease: {case['Actual Disease']}\")\n",
    "        print(f\"Predicted Disease: {case['Predicted Disease']}\")\n",
    "        print(\"-\" * 50)\n"
   ]
  },
  {
   "cell_type": "code",
   "execution_count": null,
   "metadata": {},
   "outputs": [],
   "source": []
  }
 ],
 "metadata": {
  "kernelspec": {
   "display_name": "Python 3",
   "language": "python",
   "name": "python3"
  },
  "language_info": {
   "codemirror_mode": {
    "name": "ipython",
    "version": 3
   },
   "file_extension": ".py",
   "mimetype": "text/x-python",
   "name": "python",
   "nbconvert_exporter": "python",
   "pygments_lexer": "ipython3",
   "version": "3.11.10"
  }
 },
 "nbformat": 4,
 "nbformat_minor": 2
}
